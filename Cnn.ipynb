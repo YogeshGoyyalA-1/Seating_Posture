{
 "cells": [
  {
   "cell_type": "code",
   "execution_count": 1,
   "metadata": {
    "id": "i7rq_Nc_sM6s"
   },
   "outputs": [],
   "source": [
    "import pandas as pd\n",
    "import numpy as np\n",
    "import matplotlib.pyplot as plt\n",
    "import tensorflow as tf\n",
    "from tensorflow.keras import layers, models,callbacks\n",
    "from sklearn.model_selection import train_test_split\n",
    "import joblib\n",
    "from tensorflow.keras.optimizers import Adam\n",
    "from keras.models import load_model"
   ]
  },
  {
   "cell_type": "code",
   "execution_count": 2,
   "metadata": {
    "colab": {
     "base_uri": "https://localhost:8080/",
     "height": 424
    },
    "id": "1R73nnp1skK2",
    "outputId": "dfe55e72-f67b-401b-bd7d-3c4d253a1d2a"
   },
   "outputs": [],
   "source": [
    "data=pd.read_csv(\"dataset.csv\")"
   ]
  },
  {
   "cell_type": "code",
   "execution_count": 3,
   "metadata": {
    "id": "-Wx_RlRcwxD0"
   },
   "outputs": [],
   "source": [
    "data.drop(columns=[\"Angle\"],inplace=True)\n"
   ]
  },
  {
   "cell_type": "code",
   "execution_count": 4,
   "metadata": {
    "id": "zFJHbYqgsonL"
   },
   "outputs": [],
   "source": [
    "num_samples=30\n",
    "k=data.shape[0]//(num_samples)\n",
    "mat=np.eye(9)\n",
    "test=np.zeros(shape=(k))\n",
    "for i in range(9):\n",
    "  for j in range(k//9):\n",
    "    test[(k//9)*i+j]=i\n"
   ]
  },
  {
   "cell_type": "code",
   "execution_count": 5,
   "metadata": {
    "id": "sWHbKrqbucqh"
   },
   "outputs": [],
   "source": [
    "tr=np.array(data)\n",
    "train=np.zeros(shape=(k,num_samples,15))\n",
    "for i in range(k):\n",
    "  tmp=np.zeros(shape=(num_samples,15))\n",
    "  for j in range(num_samples):\n",
    "    tmp[j]=tr[num_samples*i+j]\n",
    "  train[i]=tmp\n",
    "train=train/1024"
   ]
  },
  {
   "cell_type": "code",
   "execution_count": 6,
   "metadata": {
    "colab": {
     "base_uri": "https://localhost:8080/"
    },
    "id": "MuCiChEGy4fd",
    "outputId": "3171769f-af54-4627-b737-e9390a1f2725"
   },
   "outputs": [],
   "source": [
    "test_size = 0.2\n",
    "# test=test.reshape(-1,8,1)\n",
    "X_train, X_test, y_train, y_test = train_test_split(train, test, test_size=test_size, random_state=42)\n",
    "X_test.shape\n",
    "y_test"
   ]
  },
  {
   "cell_type": "code",
   "execution_count": 7,
   "metadata": {
    "colab": {
     "base_uri": "https://localhost:8080/"
    },
    "id": "18zyYcEnt1ZQ",
    "outputId": "d10ac8bc-7475-49c5-a99e-9cf15e8e0ffb"
   },
   "outputs": [],
   "source": [
    "model = models.Sequential([\n",
    "    layers.Conv2D(32, (3, 3), activation='relu', input_shape=(num_samples, 15, 1)),\n",
    "    layers.MaxPooling2D((2, 2)),\n",
    "    layers.Conv2D(64, (3, 3), activation='relu'),\n",
    "    layers.MaxPooling2D((2, 2)),\n",
    "    layers.Flatten(),\n",
    "    layers.Dense(128, activation='relu'),\n",
    "    layers.Dense(9, activation='softmax')\n",
    "])\n",
    "model.compile(loss='sparse_categorical_crossentropy', metrics=['accuracy'])\n",
    "checkpoint_callback = callbacks.ModelCheckpoint('best_weights.h5',\n",
    "                                                 monitor='val_accuracy',\n",
    "                                                 save_best_only=True,\n",
    "                                                 save_weights_only=True,\n",
    "                                                 mode='max',\n",
    "                                                 verbose=1)\n",
    "\n",
    "history = model.fit(X_train, y_train, epochs=50, batch_size=32,\n",
    "                    validation_data=(X_test, y_test),\n",
    "                    callbacks=[checkpoint_callback])\n",
    "model.load_weights('best_weights.h5')\n"
   ]
  },
  {
   "cell_type": "code",
   "execution_count": 8,
   "metadata": {
    "colab": {
     "base_uri": "https://localhost:8080/",
     "height": 423
    },
    "id": "1ULVOH1Ht0Fj",
    "outputId": "9d5e63c8-9c48-4b53-a924-aeeedf6e89ee"
   },
   "outputs": [],
   "source": [
    "test_loss, test_accuracy = model.evaluate(X_test, y_test)\n",
    "print(\"Test Accuracy:\", test_accuracy)\n",
    "# Plot training and validation accuracy\n",
    "plt.figure(figsize=(12, 4))\n",
    "plt.subplot(1, 2, 1)\n",
    "plt.plot(history.history['accuracy'], label='Training Accuracy')\n",
    "plt.plot(history.history['val_accuracy'], label='Validation Accuracy')\n",
    "plt.xlabel('Epoch')\n",
    "plt.title('Model Accuracy')\n",
    "plt.ylabel('Accuracy')\n",
    "plt.legend()\n",
    "\n",
    "# Plot training and validation loss\n",
    "plt.subplot(1, 2, 2)\n",
    "plt.plot(history.history['loss'], label='Training Loss')\n",
    "plt.plot(history.history['val_loss'], label='Validation Loss')\n",
    "plt.xlabel('Epoch')\n",
    "plt.ylabel('Loss')\n",
    "plt.title('Model Loss')\n",
    "plt.legend()\n",
    "plt.show()\n"
   ]
  },
  {
   "cell_type": "code",
   "execution_count": 9,
   "metadata": {
    "colab": {
     "base_uri": "https://localhost:8080/"
    },
    "id": "lO0gjgyrCqx-",
    "outputId": "e81c6871-ea32-4601-ebac-72723b63ffe8"
   },
   "outputs": [],
   "source": [
    "model.save('my_model.h5')"
   ]
  },
  {
   "cell_type": "code",
   "execution_count": null,
   "metadata": {
    "id": "ReYpa6bF7UU6"
   },
   "outputs": [],
   "source": []
  }
 ],
 "metadata": {
  "colab": {
   "provenance": []
  },
  "kernelspec": {
   "display_name": "Python 3 (ipykernel)",
   "language": "python",
   "name": "python3"
  },
  "language_info": {
   "codemirror_mode": {
    "name": "ipython",
    "version": 3
   },
   "file_extension": ".py",
   "mimetype": "text/x-python",
   "name": "python",
   "nbconvert_exporter": "python",
   "pygments_lexer": "ipython3",
   "version": "3.11.4"
  }
 },
 "nbformat": 4,
 "nbformat_minor": 1
}
